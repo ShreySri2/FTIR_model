{
 "cells": [
  {
   "cell_type": "code",
   "execution_count": 1,
   "metadata": {},
   "outputs": [],
   "source": [
    "import pandas as pd\n",
    "import os\n",
    "import torch\n",
    "import torch.nn as nn\n",
    "import torch.optim as optim\n",
    "from torch.utils.data import Dataset, DataLoader\n",
    "from sklearn.model_selection import train_test_split\n",
    "from sklearn.preprocessing import LabelEncoder"
   ]
  },
  {
   "cell_type": "code",
   "execution_count": null,
   "metadata": {},
   "outputs": [],
   "source": [
    "class FTIRDataset(Dataset):\n",
    "    def __init__(self, data):\n",
    "        self.data = data\n",
    "\n",
    "    def __len__(self):\n",
    "        return len(self.data)\n",
    "\n",
    "    def __getitem__(self, idx):\n",
    "        label = self.data.iloc[idx, 2]  # assuming label is in the third column\n",
    "        features = torch.tensor(self.data.iloc[idx, :2].values, dtype=torch.float32)\n",
    "        return features, label"
   ]
  },
  {
   "cell_type": "code",
   "execution_count": null,
   "metadata": {},
   "outputs": [],
   "source": [
    "full_df = pd.read_csv('../data/processsed/combined_dataset.csv')\n",
    "# Split the data into training and testing sets\n",
    "train_data, test_data = train_test_split(full_df, test_size=0.2, random_state=42)\n",
    "\n",
    "# Create instances of the FTIRDataset class\n",
    "train_dataset = FTIRDataset(train_data)\n",
    "test_dataset = FTIRDataset(test_data)\n",
    "\n",
    "# Create DataLoader for training and testing\n",
    "batch_size = 1  # set to 1 since each sequence is treated as an individual sample\n",
    "train_loader = DataLoader(train_dataset, batch_size=batch_size, shuffle=True)\n",
    "test_loader = DataLoader(test_dataset, batch_size=batch_size, shuffle=False)"
   ]
  },
  {
   "cell_type": "code",
   "execution_count": null,
   "metadata": {},
   "outputs": [],
   "source": [
    "# Define the RNN model\n",
    "class FTIRRNN(nn.Module):\n",
    "    def __init__(self, input_size, hidden_size, output_size, num_layers=1):\n",
    "        super(FTIRRNN, self).__init__()\n",
    "        self.lstm = nn.LSTM(input_size, hidden_size, num_layers, batch_first=True)\n",
    "        self.fc = nn.Linear(hidden_size, output_size)\n",
    "\n",
    "    def forward(self, x):\n",
    "        out, _ = self.lstm(x)\n",
    "        out = self.fc(out[:, -1, :])  # Only take the output from the last time step\n",
    "        return out"
   ]
  },
  {
   "cell_type": "code",
   "execution_count": null,
   "metadata": {},
   "outputs": [],
   "source": [
    "files = ['Blood_and_RNA_1mg_and_Lys_1mg.CSV', 'Lys_1_mg_Blood_Raw.CSV', 'Lys_10_ng_Blood_Raw.CSV', 'RNA_1_mg_and_Blood_Raw.CSV', 'RNA_10_ng_and_Blood_Raw.CSV']\n",
    "\n",
    "# Specify input size based on the number of features in your data\n",
    "input_size = 2  # Assuming wavenumber and transmittance are the features\n",
    "\n",
    "# Specify hidden layer size and output size based on your requirements\n",
    "hidden_size = 64\n",
    "output_size = len(files)  # Number of classes equals the number of files\n",
    "\n",
    "# Instantiate the model\n",
    "model = FTIRRNN(input_size, hidden_size, output_size)\n",
    "\n",
    "# Define loss function and optimizer\n",
    "criterion = nn.CrossEntropyLoss()\n",
    "optimizer = optim.Adam(model.parameters(), lr=0.001)\n",
    "\n",
    "# Convert data to PyTorch tensors\n",
    "X_train_tensor = torch.tensor(train_data[['wavenumber', 'transmittance']].values, dtype=torch.float32)\n",
    "y_train_tensor = torch.tensor(train_data['label'].astype('category').cat.codes.values, dtype=torch.long)"
   ]
  },
  {
   "cell_type": "code",
   "execution_count": null,
   "metadata": {},
   "outputs": [],
   "source": [
    "num_epochs = 50\n",
    "\n",
    "for epoch in range(num_epochs):\n",
    "    model.train()\n",
    "    optimizer.zero_grad()\n",
    "    outputs = model(X_train_tensor.unsqueeze(0))  # Add an extra dimension for the sequence length (1 in this case)\n",
    "    loss = criterion(outputs, y_train_tensor.unsqueeze(0))\n",
    "    loss.backward()\n",
    "    optimizer.step()\n",
    "\n",
    "    # Evaluation during training (optional)\n",
    "    model.eval()\n",
    "    with torch.no_grad():\n",
    "        test_outputs = model(X_train_tensor.unsqueeze(0))\n",
    "        _, predicted_labels = torch.max(test_outputs.data, 1)\n",
    "\n",
    "    accuracy = (predicted_labels == y_train_tensor.unsqueeze(0)).sum().item() / len(y_train_tensor)\n",
    "    print(f'Epoch {epoch+1}/{num_epochs}, Loss: {loss.item():.4f}, Accuracy: {accuracy:.4f}')"
   ]
  }
 ],
 "metadata": {
  "kernelspec": {
   "display_name": "torch",
   "language": "python",
   "name": "python3"
  },
  "language_info": {
   "codemirror_mode": {
    "name": "ipython",
    "version": 3
   },
   "file_extension": ".py",
   "mimetype": "text/x-python",
   "name": "python",
   "nbconvert_exporter": "python",
   "pygments_lexer": "ipython3",
   "version": "3.10.5"
  }
 },
 "nbformat": 4,
 "nbformat_minor": 2
}
