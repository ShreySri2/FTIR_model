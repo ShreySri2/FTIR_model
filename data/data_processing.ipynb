{
 "cells": [
  {
   "cell_type": "code",
   "execution_count": 6,
   "metadata": {},
   "outputs": [],
   "source": [
    "import pandas as pd\n",
    "import os"
   ]
  },
  {
   "cell_type": "code",
   "execution_count": 28,
   "metadata": {},
   "outputs": [],
   "source": [
    "files = ['Blood_and_RNA_1mg_and_Lys_1mg.CSV', 'Lys_1_mg_Blood_Raw.CSV', 'Lys_10_ng_Blood_Raw.CSV', 'RNA_1_mg_and_Blood_Raw.CSV', 'RNA_10_ng_and_Blood_Raw.CSV']\n",
    "\n",
    "dataframes = []\n",
    "\n",
    "for file_name in files:\n",
    "    file_path = os.path.join('./preprocessed/', file_name)  # Update the path accordingly\n",
    "    df = pd.read_csv(file_path)\n",
    "    df = pd.read_csv(file_path, names=['wavenumber', 'transmittance'])\n",
    "    df['label'] = file_name  # Adding label column based on the file name\n",
    "    dataframes.append(df)\n",
    "\n",
    "# Combine all dataframes into a single dataframe\n",
    "full_df = pd.concat(dataframes, keys=files)\n",
    "\n",
    "# Reset index to make it a regular column\n",
    "full_df.reset_index(inplace=True, drop=True)\n",
    "full_df.rename(columns={'level_0': 'label'}, inplace=True)"
   ]
  },
  {
   "cell_type": "code",
   "execution_count": 29,
   "metadata": {},
   "outputs": [
    {
     "data": {
      "text/html": [
       "<div>\n",
       "<style scoped>\n",
       "    .dataframe tbody tr th:only-of-type {\n",
       "        vertical-align: middle;\n",
       "    }\n",
       "\n",
       "    .dataframe tbody tr th {\n",
       "        vertical-align: top;\n",
       "    }\n",
       "\n",
       "    .dataframe thead th {\n",
       "        text-align: right;\n",
       "    }\n",
       "</style>\n",
       "<table border=\"1\" class=\"dataframe\">\n",
       "  <thead>\n",
       "    <tr style=\"text-align: right;\">\n",
       "      <th></th>\n",
       "      <th>wavenumber</th>\n",
       "      <th>transmittance</th>\n",
       "      <th>label</th>\n",
       "    </tr>\n",
       "  </thead>\n",
       "  <tbody>\n",
       "    <tr>\n",
       "      <th>0</th>\n",
       "      <td>399.6917</td>\n",
       "      <td>0.00000</td>\n",
       "      <td>Blood_and_RNA_1mg_and_Lys_1mg.CSV</td>\n",
       "    </tr>\n",
       "    <tr>\n",
       "      <th>1</th>\n",
       "      <td>400.1738</td>\n",
       "      <td>0.00000</td>\n",
       "      <td>Blood_and_RNA_1mg_and_Lys_1mg.CSV</td>\n",
       "    </tr>\n",
       "    <tr>\n",
       "      <th>2</th>\n",
       "      <td>400.6559</td>\n",
       "      <td>0.00000</td>\n",
       "      <td>Blood_and_RNA_1mg_and_Lys_1mg.CSV</td>\n",
       "    </tr>\n",
       "    <tr>\n",
       "      <th>3</th>\n",
       "      <td>401.1381</td>\n",
       "      <td>0.00000</td>\n",
       "      <td>Blood_and_RNA_1mg_and_Lys_1mg.CSV</td>\n",
       "    </tr>\n",
       "    <tr>\n",
       "      <th>4</th>\n",
       "      <td>401.6202</td>\n",
       "      <td>0.00000</td>\n",
       "      <td>Blood_and_RNA_1mg_and_Lys_1mg.CSV</td>\n",
       "    </tr>\n",
       "    <tr>\n",
       "      <th>...</th>\n",
       "      <td>...</td>\n",
       "      <td>...</td>\n",
       "      <td>...</td>\n",
       "    </tr>\n",
       "    <tr>\n",
       "      <th>37340</th>\n",
       "      <td>3998.3630</td>\n",
       "      <td>71.42165</td>\n",
       "      <td>RNA_10_ng_and_Blood_Raw.CSV</td>\n",
       "    </tr>\n",
       "    <tr>\n",
       "      <th>37341</th>\n",
       "      <td>3998.8450</td>\n",
       "      <td>71.44234</td>\n",
       "      <td>RNA_10_ng_and_Blood_Raw.CSV</td>\n",
       "    </tr>\n",
       "    <tr>\n",
       "      <th>37342</th>\n",
       "      <td>3999.3270</td>\n",
       "      <td>71.46505</td>\n",
       "      <td>RNA_10_ng_and_Blood_Raw.CSV</td>\n",
       "    </tr>\n",
       "    <tr>\n",
       "      <th>37343</th>\n",
       "      <td>3999.8090</td>\n",
       "      <td>71.48732</td>\n",
       "      <td>RNA_10_ng_and_Blood_Raw.CSV</td>\n",
       "    </tr>\n",
       "    <tr>\n",
       "      <th>37344</th>\n",
       "      <td>4000.2910</td>\n",
       "      <td>0.00000</td>\n",
       "      <td>RNA_10_ng_and_Blood_Raw.CSV</td>\n",
       "    </tr>\n",
       "  </tbody>\n",
       "</table>\n",
       "<p>37345 rows × 3 columns</p>\n",
       "</div>"
      ],
      "text/plain": [
       "       wavenumber  transmittance                              label\n",
       "0        399.6917        0.00000  Blood_and_RNA_1mg_and_Lys_1mg.CSV\n",
       "1        400.1738        0.00000  Blood_and_RNA_1mg_and_Lys_1mg.CSV\n",
       "2        400.6559        0.00000  Blood_and_RNA_1mg_and_Lys_1mg.CSV\n",
       "3        401.1381        0.00000  Blood_and_RNA_1mg_and_Lys_1mg.CSV\n",
       "4        401.6202        0.00000  Blood_and_RNA_1mg_and_Lys_1mg.CSV\n",
       "...           ...            ...                                ...\n",
       "37340   3998.3630       71.42165        RNA_10_ng_and_Blood_Raw.CSV\n",
       "37341   3998.8450       71.44234        RNA_10_ng_and_Blood_Raw.CSV\n",
       "37342   3999.3270       71.46505        RNA_10_ng_and_Blood_Raw.CSV\n",
       "37343   3999.8090       71.48732        RNA_10_ng_and_Blood_Raw.CSV\n",
       "37344   4000.2910        0.00000        RNA_10_ng_and_Blood_Raw.CSV\n",
       "\n",
       "[37345 rows x 3 columns]"
      ]
     },
     "execution_count": 29,
     "metadata": {},
     "output_type": "execute_result"
    }
   ],
   "source": [
    "full_df"
   ]
  },
  {
   "cell_type": "code",
   "execution_count": 30,
   "metadata": {},
   "outputs": [],
   "source": [
    "full_df.to_csv('./processsed/combined_dataset.csv', index=False)\n"
   ]
  }
 ],
 "metadata": {
  "kernelspec": {
   "display_name": "torch",
   "language": "python",
   "name": "python3"
  },
  "language_info": {
   "codemirror_mode": {
    "name": "ipython",
    "version": 3
   },
   "file_extension": ".py",
   "mimetype": "text/x-python",
   "name": "python",
   "nbconvert_exporter": "python",
   "pygments_lexer": "ipython3",
   "version": "3.10.5"
  }
 },
 "nbformat": 4,
 "nbformat_minor": 2
}
